{
 "cells": [
  {
   "cell_type": "code",
   "execution_count": 1,
   "id": "8af42408-5210-4ccb-a0b7-4966c5ffeb4f",
   "metadata": {},
   "outputs": [],
   "source": [
    "import pandas as pd"
   ]
  },
  {
   "cell_type": "code",
   "execution_count": 6,
   "id": "a32010f9-f24e-4d04-930d-655d692e00c1",
   "metadata": {},
   "outputs": [
    {
     "data": {
      "text/html": [
       "<div>\n",
       "<style scoped>\n",
       "    .dataframe tbody tr th:only-of-type {\n",
       "        vertical-align: middle;\n",
       "    }\n",
       "\n",
       "    .dataframe tbody tr th {\n",
       "        vertical-align: top;\n",
       "    }\n",
       "\n",
       "    .dataframe thead th {\n",
       "        text-align: right;\n",
       "    }\n",
       "</style>\n",
       "<table border=\"1\" class=\"dataframe\">\n",
       "  <thead>\n",
       "    <tr style=\"text-align: right;\">\n",
       "      <th></th>\n",
       "      <th>course_name</th>\n",
       "      <th>duration</th>\n",
       "    </tr>\n",
       "  </thead>\n",
       "  <tbody>\n",
       "    <tr>\n",
       "      <th>0</th>\n",
       "      <td>Data Science</td>\n",
       "      <td>2</td>\n",
       "    </tr>\n",
       "    <tr>\n",
       "      <th>1</th>\n",
       "      <td>Machine Learning</td>\n",
       "      <td>3</td>\n",
       "    </tr>\n",
       "    <tr>\n",
       "      <th>2</th>\n",
       "      <td>Big Data</td>\n",
       "      <td>6</td>\n",
       "    </tr>\n",
       "    <tr>\n",
       "      <th>3</th>\n",
       "      <td>Data Engineer</td>\n",
       "      <td>4</td>\n",
       "    </tr>\n",
       "  </tbody>\n",
       "</table>\n",
       "</div>"
      ],
      "text/plain": [
       "        course_name  duration\n",
       "0      Data Science         2\n",
       "1  Machine Learning         3\n",
       "2          Big Data         6\n",
       "3     Data Engineer         4"
      ]
     },
     "execution_count": 6,
     "metadata": {},
     "output_type": "execute_result"
    }
   ],
   "source": [
    "course_name = ['Data Science', 'Machine Learning', 'Big Data', 'Data Engineer']\n",
    "duration = [2,3,6,4]\n",
    "df = pd.DataFrame(data = {'course_name' : course_name, 'duration' : duration})\n",
    "df"
   ]
  },
  {
   "cell_type": "markdown",
   "id": "7914da21-9feb-4b78-bfce-13baf9c156ec",
   "metadata": {},
   "source": [
    "quation 1:"
   ]
  },
  {
   "cell_type": "code",
   "execution_count": 16,
   "id": "5f1e1bbf-17c3-4b6c-a2a0-9c3735fdde06",
   "metadata": {},
   "outputs": [
    {
     "data": {
      "text/html": [
       "<div>\n",
       "<style scoped>\n",
       "    .dataframe tbody tr th:only-of-type {\n",
       "        vertical-align: middle;\n",
       "    }\n",
       "\n",
       "    .dataframe tbody tr th {\n",
       "        vertical-align: top;\n",
       "    }\n",
       "\n",
       "    .dataframe thead th {\n",
       "        text-align: right;\n",
       "    }\n",
       "</style>\n",
       "<table border=\"1\" class=\"dataframe\">\n",
       "  <thead>\n",
       "    <tr style=\"text-align: right;\">\n",
       "      <th></th>\n",
       "      <th>course_name</th>\n",
       "      <th>duration</th>\n",
       "    </tr>\n",
       "  </thead>\n",
       "  <tbody>\n",
       "    <tr>\n",
       "      <th>0</th>\n",
       "      <td>Data Science</td>\n",
       "      <td>2</td>\n",
       "    </tr>\n",
       "    <tr>\n",
       "      <th>1</th>\n",
       "      <td>Machine Learning</td>\n",
       "      <td>3</td>\n",
       "    </tr>\n",
       "  </tbody>\n",
       "</table>\n",
       "</div>"
      ],
      "text/plain": [
       "        course_name  duration\n",
       "0      Data Science         2\n",
       "1  Machine Learning         3"
      ]
     },
     "execution_count": 16,
     "metadata": {},
     "output_type": "execute_result"
    }
   ],
   "source": [
    "df[[\"course_name\",\"duration\"]][0:2]"
   ]
  },
  {
   "cell_type": "markdown",
   "id": "ce488c7d-4a02-477a-a5c7-2cff773580cc",
   "metadata": {},
   "source": [
    "quation2:"
   ]
  },
  {
   "cell_type": "markdown",
   "id": "95889397-f803-4d33-9ac1-d295f84ac0db",
   "metadata": {},
   "source": [
    "loc:\n",
    "    1)you can specify the row and column labels within square braket to select data\n",
    "    2)the endpoint of the range is inclusive meaning i includes the last label when selecting row and column.\n",
    "    3)you can also use boolean indexing with loc\n",
    "iloc:\n",
    "    1)you can use integer position to select data.\n",
    "    2)uses integer  position and its exclusive at the end of the range\n",
    "    3)iloc require integer position for both row and column "
   ]
  },
  {
   "cell_type": "markdown",
   "id": "8aa5cd3e-d1b2-4ab5-bca3-22b9bc0bf2a9",
   "metadata": {},
   "source": [
    "quation 3:"
   ]
  },
  {
   "cell_type": "code",
   "execution_count": 20,
   "id": "1fd7fcb4-a448-4356-857a-716b733c51f6",
   "metadata": {},
   "outputs": [],
   "source": [
    "reindex = [3,0,1,2]\n",
    "new_df=df.reindex(reindex)"
   ]
  },
  {
   "cell_type": "code",
   "execution_count": 21,
   "id": "25a22b4b-d54a-4ec0-9b26-1ac5e85d7dc1",
   "metadata": {},
   "outputs": [
    {
     "data": {
      "text/plain": [
       "course_name    Big Data\n",
       "duration              6\n",
       "Name: 2, dtype: object"
      ]
     },
     "execution_count": 21,
     "metadata": {},
     "output_type": "execute_result"
    }
   ],
   "source": [
    "new_df.loc[2]"
   ]
  },
  {
   "cell_type": "code",
   "execution_count": 23,
   "id": "8a600871-64e3-4a12-9649-fd83bd240b8c",
   "metadata": {},
   "outputs": [
    {
     "data": {
      "text/plain": [
       "course_name    Machine Learning\n",
       "duration                      3\n",
       "Name: 1, dtype: object"
      ]
     },
     "execution_count": 23,
     "metadata": {},
     "output_type": "execute_result"
    }
   ],
   "source": [
    "new_df.iloc[2]"
   ]
  },
  {
   "cell_type": "markdown",
   "id": "faf2dabc-99a4-494d-b95b-af7fd1b1485b",
   "metadata": {},
   "source": [
    "yes because iloc function use index location and and it include last-1 level"
   ]
  },
  {
   "cell_type": "code",
   "execution_count": 3,
   "id": "dc305230-95b0-4298-b948-80a0b885cc4f",
   "metadata": {},
   "outputs": [],
   "source": [
    "import numpy as np"
   ]
  },
  {
   "cell_type": "code",
   "execution_count": 12,
   "id": "67aab9ab-7be5-402a-b200-1b2047d08795",
   "metadata": {},
   "outputs": [
    {
     "data": {
      "text/html": [
       "<div>\n",
       "<style scoped>\n",
       "    .dataframe tbody tr th:only-of-type {\n",
       "        vertical-align: middle;\n",
       "    }\n",
       "\n",
       "    .dataframe tbody tr th {\n",
       "        vertical-align: top;\n",
       "    }\n",
       "\n",
       "    .dataframe thead th {\n",
       "        text-align: right;\n",
       "    }\n",
       "</style>\n",
       "<table border=\"1\" class=\"dataframe\">\n",
       "  <thead>\n",
       "    <tr style=\"text-align: right;\">\n",
       "      <th></th>\n",
       "      <th>column_1</th>\n",
       "      <th>column_2</th>\n",
       "      <th>column_3</th>\n",
       "      <th>column_4</th>\n",
       "      <th>column_5</th>\n",
       "      <th>column_6</th>\n",
       "    </tr>\n",
       "  </thead>\n",
       "  <tbody>\n",
       "    <tr>\n",
       "      <th>1</th>\n",
       "      <td>0.392909</td>\n",
       "      <td>0.009957</td>\n",
       "      <td>0.852367</td>\n",
       "      <td>0.103803</td>\n",
       "      <td>0.137763</td>\n",
       "      <td>0.727320</td>\n",
       "    </tr>\n",
       "    <tr>\n",
       "      <th>2</th>\n",
       "      <td>0.405981</td>\n",
       "      <td>0.639532</td>\n",
       "      <td>0.252830</td>\n",
       "      <td>0.009699</td>\n",
       "      <td>0.069961</td>\n",
       "      <td>0.215146</td>\n",
       "    </tr>\n",
       "    <tr>\n",
       "      <th>3</th>\n",
       "      <td>0.003756</td>\n",
       "      <td>0.062423</td>\n",
       "      <td>0.860400</td>\n",
       "      <td>0.857908</td>\n",
       "      <td>0.117550</td>\n",
       "      <td>0.918172</td>\n",
       "    </tr>\n",
       "    <tr>\n",
       "      <th>4</th>\n",
       "      <td>0.802977</td>\n",
       "      <td>0.990534</td>\n",
       "      <td>0.752261</td>\n",
       "      <td>0.602611</td>\n",
       "      <td>0.302739</td>\n",
       "      <td>0.438745</td>\n",
       "    </tr>\n",
       "    <tr>\n",
       "      <th>5</th>\n",
       "      <td>0.187407</td>\n",
       "      <td>0.858665</td>\n",
       "      <td>0.521032</td>\n",
       "      <td>0.381550</td>\n",
       "      <td>0.990353</td>\n",
       "      <td>0.070517</td>\n",
       "    </tr>\n",
       "    <tr>\n",
       "      <th>6</th>\n",
       "      <td>0.910243</td>\n",
       "      <td>0.579034</td>\n",
       "      <td>0.596964</td>\n",
       "      <td>0.426206</td>\n",
       "      <td>0.176190</td>\n",
       "      <td>0.694946</td>\n",
       "    </tr>\n",
       "  </tbody>\n",
       "</table>\n",
       "</div>"
      ],
      "text/plain": [
       "   column_1  column_2  column_3  column_4  column_5  column_6\n",
       "1  0.392909  0.009957  0.852367  0.103803  0.137763  0.727320\n",
       "2  0.405981  0.639532  0.252830  0.009699  0.069961  0.215146\n",
       "3  0.003756  0.062423  0.860400  0.857908  0.117550  0.918172\n",
       "4  0.802977  0.990534  0.752261  0.602611  0.302739  0.438745\n",
       "5  0.187407  0.858665  0.521032  0.381550  0.990353  0.070517\n",
       "6  0.910243  0.579034  0.596964  0.426206  0.176190  0.694946"
      ]
     },
     "execution_count": 12,
     "metadata": {},
     "output_type": "execute_result"
    }
   ],
   "source": [
    "columns = ['column_1', 'column_2', 'column_3', 'column_4', 'column_5', 'column_6']\n",
    "indices = [1,2,3,4,5,6]\n",
    "\n",
    "df1 = pd.DataFrame(np.random.rand(6,6), columns = columns, index = indices)\n",
    "df1"
   ]
  },
  {
   "cell_type": "markdown",
   "id": "c68fb3b2-de01-4f78-b201-42398545433b",
   "metadata": {},
   "source": [
    "quation 4:"
   ]
  },
  {
   "cell_type": "code",
   "execution_count": 6,
   "id": "e5371acb-2410-4941-9896-02dffff5eb06",
   "metadata": {},
   "outputs": [
    {
     "data": {
      "text/plain": [
       "column_1    0.440556\n",
       "column_2    0.620712\n",
       "column_3    0.274316\n",
       "column_4    0.250424\n",
       "column_5    0.584795\n",
       "column_6    0.408691\n",
       "dtype: float64"
      ]
     },
     "execution_count": 6,
     "metadata": {},
     "output_type": "execute_result"
    }
   ],
   "source": [
    "#i\n",
    "df1.mean()"
   ]
  },
  {
   "cell_type": "code",
   "execution_count": 8,
   "id": "e13ad9ef-99b1-41c8-b4bd-dcd20e2e0c2b",
   "metadata": {},
   "outputs": [
    {
     "data": {
      "text/plain": [
       "0.30015890172425264"
      ]
     },
     "execution_count": 8,
     "metadata": {},
     "output_type": "execute_result"
    }
   ],
   "source": [
    "#ii\n",
    "df1['column_2'].std()"
   ]
  },
  {
   "cell_type": "markdown",
   "id": "c3ba5b39-2cf2-4564-b53b-2a0b3480e358",
   "metadata": {},
   "source": [
    "quation 5:"
   ]
  },
  {
   "cell_type": "code",
   "execution_count": 16,
   "id": "f8982852-c46f-4431-965a-c05715c3c0f7",
   "metadata": {},
   "outputs": [],
   "source": [
    "df1[\"column_2\"]=[\"ayush\",\"bhujade\",\"aditya\",\"satai\",\"nainity\",\"motghare\"]"
   ]
  },
  {
   "cell_type": "code",
   "execution_count": 17,
   "id": "746d6abc-040d-4773-b2a7-d729eafed8c5",
   "metadata": {},
   "outputs": [
    {
     "ename": "TypeError",
     "evalue": "Could not convert ayushbhujadeadityasatainainitymotghare to numeric",
     "output_type": "error",
     "traceback": [
      "\u001b[0;31m---------------------------------------------------------------------------\u001b[0m",
      "\u001b[0;31mValueError\u001b[0m                                Traceback (most recent call last)",
      "File \u001b[0;32m/opt/conda/lib/python3.10/site-packages/pandas/core/nanops.py:1630\u001b[0m, in \u001b[0;36m_ensure_numeric\u001b[0;34m(x)\u001b[0m\n\u001b[1;32m   1629\u001b[0m \u001b[38;5;28;01mtry\u001b[39;00m:\n\u001b[0;32m-> 1630\u001b[0m     x \u001b[38;5;241m=\u001b[39m \u001b[38;5;28;43mfloat\u001b[39;49m\u001b[43m(\u001b[49m\u001b[43mx\u001b[49m\u001b[43m)\u001b[49m\n\u001b[1;32m   1631\u001b[0m \u001b[38;5;28;01mexcept\u001b[39;00m (\u001b[38;5;167;01mTypeError\u001b[39;00m, \u001b[38;5;167;01mValueError\u001b[39;00m):\n\u001b[1;32m   1632\u001b[0m     \u001b[38;5;66;03m# e.g. \"1+1j\" or \"foo\"\u001b[39;00m\n",
      "\u001b[0;31mValueError\u001b[0m: could not convert string to float: 'ayushbhujadeadityasatainainitymotghare'",
      "\nDuring handling of the above exception, another exception occurred:\n",
      "\u001b[0;31mValueError\u001b[0m                                Traceback (most recent call last)",
      "File \u001b[0;32m/opt/conda/lib/python3.10/site-packages/pandas/core/nanops.py:1634\u001b[0m, in \u001b[0;36m_ensure_numeric\u001b[0;34m(x)\u001b[0m\n\u001b[1;32m   1633\u001b[0m \u001b[38;5;28;01mtry\u001b[39;00m:\n\u001b[0;32m-> 1634\u001b[0m     x \u001b[38;5;241m=\u001b[39m \u001b[38;5;28;43mcomplex\u001b[39;49m\u001b[43m(\u001b[49m\u001b[43mx\u001b[49m\u001b[43m)\u001b[49m\n\u001b[1;32m   1635\u001b[0m \u001b[38;5;28;01mexcept\u001b[39;00m \u001b[38;5;167;01mValueError\u001b[39;00m \u001b[38;5;28;01mas\u001b[39;00m err:\n\u001b[1;32m   1636\u001b[0m     \u001b[38;5;66;03m# e.g. \"foo\"\u001b[39;00m\n",
      "\u001b[0;31mValueError\u001b[0m: complex() arg is a malformed string",
      "\nThe above exception was the direct cause of the following exception:\n",
      "\u001b[0;31mTypeError\u001b[0m                                 Traceback (most recent call last)",
      "Cell \u001b[0;32mIn[17], line 1\u001b[0m\n\u001b[0;32m----> 1\u001b[0m \u001b[43mdf1\u001b[49m\u001b[43m[\u001b[49m\u001b[38;5;124;43m'\u001b[39;49m\u001b[38;5;124;43mcolumn_2\u001b[39;49m\u001b[38;5;124;43m'\u001b[39;49m\u001b[43m]\u001b[49m\u001b[38;5;241;43m.\u001b[39;49m\u001b[43mmean\u001b[49m\u001b[43m(\u001b[49m\u001b[43m)\u001b[49m\n",
      "File \u001b[0;32m/opt/conda/lib/python3.10/site-packages/pandas/core/generic.py:11847\u001b[0m, in \u001b[0;36mNDFrame._add_numeric_operations.<locals>.mean\u001b[0;34m(self, axis, skipna, level, numeric_only, **kwargs)\u001b[0m\n\u001b[1;32m  11829\u001b[0m \u001b[38;5;129m@doc\u001b[39m(\n\u001b[1;32m  11830\u001b[0m     _num_doc,\n\u001b[1;32m  11831\u001b[0m     desc\u001b[38;5;241m=\u001b[39m\u001b[38;5;124m\"\u001b[39m\u001b[38;5;124mReturn the mean of the values over the requested axis.\u001b[39m\u001b[38;5;124m\"\u001b[39m,\n\u001b[0;32m   (...)\u001b[0m\n\u001b[1;32m  11845\u001b[0m     \u001b[38;5;241m*\u001b[39m\u001b[38;5;241m*\u001b[39mkwargs,\n\u001b[1;32m  11846\u001b[0m ):\n\u001b[0;32m> 11847\u001b[0m     \u001b[38;5;28;01mreturn\u001b[39;00m \u001b[43mNDFrame\u001b[49m\u001b[38;5;241;43m.\u001b[39;49m\u001b[43mmean\u001b[49m\u001b[43m(\u001b[49m\u001b[38;5;28;43mself\u001b[39;49m\u001b[43m,\u001b[49m\u001b[43m \u001b[49m\u001b[43maxis\u001b[49m\u001b[43m,\u001b[49m\u001b[43m \u001b[49m\u001b[43mskipna\u001b[49m\u001b[43m,\u001b[49m\u001b[43m \u001b[49m\u001b[43mlevel\u001b[49m\u001b[43m,\u001b[49m\u001b[43m \u001b[49m\u001b[43mnumeric_only\u001b[49m\u001b[43m,\u001b[49m\u001b[43m \u001b[49m\u001b[38;5;241;43m*\u001b[39;49m\u001b[38;5;241;43m*\u001b[39;49m\u001b[43mkwargs\u001b[49m\u001b[43m)\u001b[49m\n",
      "File \u001b[0;32m/opt/conda/lib/python3.10/site-packages/pandas/core/generic.py:11401\u001b[0m, in \u001b[0;36mNDFrame.mean\u001b[0;34m(self, axis, skipna, level, numeric_only, **kwargs)\u001b[0m\n\u001b[1;32m  11393\u001b[0m \u001b[38;5;28;01mdef\u001b[39;00m \u001b[38;5;21mmean\u001b[39m(\n\u001b[1;32m  11394\u001b[0m     \u001b[38;5;28mself\u001b[39m,\n\u001b[1;32m  11395\u001b[0m     axis: Axis \u001b[38;5;241m|\u001b[39m \u001b[38;5;28;01mNone\u001b[39;00m \u001b[38;5;241m|\u001b[39m lib\u001b[38;5;241m.\u001b[39mNoDefault \u001b[38;5;241m=\u001b[39m lib\u001b[38;5;241m.\u001b[39mno_default,\n\u001b[0;32m   (...)\u001b[0m\n\u001b[1;32m  11399\u001b[0m     \u001b[38;5;241m*\u001b[39m\u001b[38;5;241m*\u001b[39mkwargs,\n\u001b[1;32m  11400\u001b[0m ) \u001b[38;5;241m-\u001b[39m\u001b[38;5;241m>\u001b[39m Series \u001b[38;5;241m|\u001b[39m \u001b[38;5;28mfloat\u001b[39m:\n\u001b[0;32m> 11401\u001b[0m     \u001b[38;5;28;01mreturn\u001b[39;00m \u001b[38;5;28;43mself\u001b[39;49m\u001b[38;5;241;43m.\u001b[39;49m\u001b[43m_stat_function\u001b[49m\u001b[43m(\u001b[49m\n\u001b[1;32m  11402\u001b[0m \u001b[43m        \u001b[49m\u001b[38;5;124;43m\"\u001b[39;49m\u001b[38;5;124;43mmean\u001b[39;49m\u001b[38;5;124;43m\"\u001b[39;49m\u001b[43m,\u001b[49m\u001b[43m \u001b[49m\u001b[43mnanops\u001b[49m\u001b[38;5;241;43m.\u001b[39;49m\u001b[43mnanmean\u001b[49m\u001b[43m,\u001b[49m\u001b[43m \u001b[49m\u001b[43maxis\u001b[49m\u001b[43m,\u001b[49m\u001b[43m \u001b[49m\u001b[43mskipna\u001b[49m\u001b[43m,\u001b[49m\u001b[43m \u001b[49m\u001b[43mlevel\u001b[49m\u001b[43m,\u001b[49m\u001b[43m \u001b[49m\u001b[43mnumeric_only\u001b[49m\u001b[43m,\u001b[49m\u001b[43m \u001b[49m\u001b[38;5;241;43m*\u001b[39;49m\u001b[38;5;241;43m*\u001b[39;49m\u001b[43mkwargs\u001b[49m\n\u001b[1;32m  11403\u001b[0m \u001b[43m    \u001b[49m\u001b[43m)\u001b[49m\n",
      "File \u001b[0;32m/opt/conda/lib/python3.10/site-packages/pandas/core/generic.py:11353\u001b[0m, in \u001b[0;36mNDFrame._stat_function\u001b[0;34m(self, name, func, axis, skipna, level, numeric_only, **kwargs)\u001b[0m\n\u001b[1;32m  11343\u001b[0m     warnings\u001b[38;5;241m.\u001b[39mwarn(\n\u001b[1;32m  11344\u001b[0m         \u001b[38;5;124m\"\u001b[39m\u001b[38;5;124mUsing the level keyword in DataFrame and Series aggregations is \u001b[39m\u001b[38;5;124m\"\u001b[39m\n\u001b[1;32m  11345\u001b[0m         \u001b[38;5;124m\"\u001b[39m\u001b[38;5;124mdeprecated and will be removed in a future version. Use groupby \u001b[39m\u001b[38;5;124m\"\u001b[39m\n\u001b[0;32m   (...)\u001b[0m\n\u001b[1;32m  11348\u001b[0m         stacklevel\u001b[38;5;241m=\u001b[39mfind_stack_level(),\n\u001b[1;32m  11349\u001b[0m     )\n\u001b[1;32m  11350\u001b[0m     \u001b[38;5;28;01mreturn\u001b[39;00m \u001b[38;5;28mself\u001b[39m\u001b[38;5;241m.\u001b[39m_agg_by_level(\n\u001b[1;32m  11351\u001b[0m         name, axis\u001b[38;5;241m=\u001b[39maxis, level\u001b[38;5;241m=\u001b[39mlevel, skipna\u001b[38;5;241m=\u001b[39mskipna, numeric_only\u001b[38;5;241m=\u001b[39mnumeric_only\n\u001b[1;32m  11352\u001b[0m     )\n\u001b[0;32m> 11353\u001b[0m \u001b[38;5;28;01mreturn\u001b[39;00m \u001b[38;5;28;43mself\u001b[39;49m\u001b[38;5;241;43m.\u001b[39;49m\u001b[43m_reduce\u001b[49m\u001b[43m(\u001b[49m\n\u001b[1;32m  11354\u001b[0m \u001b[43m    \u001b[49m\u001b[43mfunc\u001b[49m\u001b[43m,\u001b[49m\u001b[43m \u001b[49m\u001b[43mname\u001b[49m\u001b[38;5;241;43m=\u001b[39;49m\u001b[43mname\u001b[49m\u001b[43m,\u001b[49m\u001b[43m \u001b[49m\u001b[43maxis\u001b[49m\u001b[38;5;241;43m=\u001b[39;49m\u001b[43maxis\u001b[49m\u001b[43m,\u001b[49m\u001b[43m \u001b[49m\u001b[43mskipna\u001b[49m\u001b[38;5;241;43m=\u001b[39;49m\u001b[43mskipna\u001b[49m\u001b[43m,\u001b[49m\u001b[43m \u001b[49m\u001b[43mnumeric_only\u001b[49m\u001b[38;5;241;43m=\u001b[39;49m\u001b[43mnumeric_only\u001b[49m\n\u001b[1;32m  11355\u001b[0m \u001b[43m\u001b[49m\u001b[43m)\u001b[49m\n",
      "File \u001b[0;32m/opt/conda/lib/python3.10/site-packages/pandas/core/series.py:4816\u001b[0m, in \u001b[0;36mSeries._reduce\u001b[0;34m(self, op, name, axis, skipna, numeric_only, filter_type, **kwds)\u001b[0m\n\u001b[1;32m   4812\u001b[0m     \u001b[38;5;28;01mraise\u001b[39;00m \u001b[38;5;167;01mNotImplementedError\u001b[39;00m(\n\u001b[1;32m   4813\u001b[0m         \u001b[38;5;124mf\u001b[39m\u001b[38;5;124m\"\u001b[39m\u001b[38;5;124mSeries.\u001b[39m\u001b[38;5;132;01m{\u001b[39;00mname\u001b[38;5;132;01m}\u001b[39;00m\u001b[38;5;124m does not implement \u001b[39m\u001b[38;5;132;01m{\u001b[39;00mkwd_name\u001b[38;5;132;01m}\u001b[39;00m\u001b[38;5;124m.\u001b[39m\u001b[38;5;124m\"\u001b[39m\n\u001b[1;32m   4814\u001b[0m     )\n\u001b[1;32m   4815\u001b[0m \u001b[38;5;28;01mwith\u001b[39;00m np\u001b[38;5;241m.\u001b[39merrstate(\u001b[38;5;28mall\u001b[39m\u001b[38;5;241m=\u001b[39m\u001b[38;5;124m\"\u001b[39m\u001b[38;5;124mignore\u001b[39m\u001b[38;5;124m\"\u001b[39m):\n\u001b[0;32m-> 4816\u001b[0m     \u001b[38;5;28;01mreturn\u001b[39;00m \u001b[43mop\u001b[49m\u001b[43m(\u001b[49m\u001b[43mdelegate\u001b[49m\u001b[43m,\u001b[49m\u001b[43m \u001b[49m\u001b[43mskipna\u001b[49m\u001b[38;5;241;43m=\u001b[39;49m\u001b[43mskipna\u001b[49m\u001b[43m,\u001b[49m\u001b[43m \u001b[49m\u001b[38;5;241;43m*\u001b[39;49m\u001b[38;5;241;43m*\u001b[39;49m\u001b[43mkwds\u001b[49m\u001b[43m)\u001b[49m\n",
      "File \u001b[0;32m/opt/conda/lib/python3.10/site-packages/pandas/core/nanops.py:93\u001b[0m, in \u001b[0;36mdisallow.__call__.<locals>._f\u001b[0;34m(*args, **kwargs)\u001b[0m\n\u001b[1;32m     91\u001b[0m \u001b[38;5;28;01mtry\u001b[39;00m:\n\u001b[1;32m     92\u001b[0m     \u001b[38;5;28;01mwith\u001b[39;00m np\u001b[38;5;241m.\u001b[39merrstate(invalid\u001b[38;5;241m=\u001b[39m\u001b[38;5;124m\"\u001b[39m\u001b[38;5;124mignore\u001b[39m\u001b[38;5;124m\"\u001b[39m):\n\u001b[0;32m---> 93\u001b[0m         \u001b[38;5;28;01mreturn\u001b[39;00m \u001b[43mf\u001b[49m\u001b[43m(\u001b[49m\u001b[38;5;241;43m*\u001b[39;49m\u001b[43margs\u001b[49m\u001b[43m,\u001b[49m\u001b[43m \u001b[49m\u001b[38;5;241;43m*\u001b[39;49m\u001b[38;5;241;43m*\u001b[39;49m\u001b[43mkwargs\u001b[49m\u001b[43m)\u001b[49m\n\u001b[1;32m     94\u001b[0m \u001b[38;5;28;01mexcept\u001b[39;00m \u001b[38;5;167;01mValueError\u001b[39;00m \u001b[38;5;28;01mas\u001b[39;00m e:\n\u001b[1;32m     95\u001b[0m     \u001b[38;5;66;03m# we want to transform an object array\u001b[39;00m\n\u001b[1;32m     96\u001b[0m     \u001b[38;5;66;03m# ValueError message to the more typical TypeError\u001b[39;00m\n\u001b[1;32m     97\u001b[0m     \u001b[38;5;66;03m# e.g. this is normally a disallowed function on\u001b[39;00m\n\u001b[1;32m     98\u001b[0m     \u001b[38;5;66;03m# object arrays that contain strings\u001b[39;00m\n\u001b[1;32m     99\u001b[0m     \u001b[38;5;28;01mif\u001b[39;00m is_object_dtype(args[\u001b[38;5;241m0\u001b[39m]):\n",
      "File \u001b[0;32m/opt/conda/lib/python3.10/site-packages/pandas/core/nanops.py:155\u001b[0m, in \u001b[0;36mbottleneck_switch.__call__.<locals>.f\u001b[0;34m(values, axis, skipna, **kwds)\u001b[0m\n\u001b[1;32m    153\u001b[0m         result \u001b[38;5;241m=\u001b[39m alt(values, axis\u001b[38;5;241m=\u001b[39maxis, skipna\u001b[38;5;241m=\u001b[39mskipna, \u001b[38;5;241m*\u001b[39m\u001b[38;5;241m*\u001b[39mkwds)\n\u001b[1;32m    154\u001b[0m \u001b[38;5;28;01melse\u001b[39;00m:\n\u001b[0;32m--> 155\u001b[0m     result \u001b[38;5;241m=\u001b[39m \u001b[43malt\u001b[49m\u001b[43m(\u001b[49m\u001b[43mvalues\u001b[49m\u001b[43m,\u001b[49m\u001b[43m \u001b[49m\u001b[43maxis\u001b[49m\u001b[38;5;241;43m=\u001b[39;49m\u001b[43maxis\u001b[49m\u001b[43m,\u001b[49m\u001b[43m \u001b[49m\u001b[43mskipna\u001b[49m\u001b[38;5;241;43m=\u001b[39;49m\u001b[43mskipna\u001b[49m\u001b[43m,\u001b[49m\u001b[43m \u001b[49m\u001b[38;5;241;43m*\u001b[39;49m\u001b[38;5;241;43m*\u001b[39;49m\u001b[43mkwds\u001b[49m\u001b[43m)\u001b[49m\n\u001b[1;32m    157\u001b[0m \u001b[38;5;28;01mreturn\u001b[39;00m result\n",
      "File \u001b[0;32m/opt/conda/lib/python3.10/site-packages/pandas/core/nanops.py:418\u001b[0m, in \u001b[0;36m_datetimelike_compat.<locals>.new_func\u001b[0;34m(values, axis, skipna, mask, **kwargs)\u001b[0m\n\u001b[1;32m    415\u001b[0m \u001b[38;5;28;01mif\u001b[39;00m datetimelike \u001b[38;5;129;01mand\u001b[39;00m mask \u001b[38;5;129;01mis\u001b[39;00m \u001b[38;5;28;01mNone\u001b[39;00m:\n\u001b[1;32m    416\u001b[0m     mask \u001b[38;5;241m=\u001b[39m isna(values)\n\u001b[0;32m--> 418\u001b[0m result \u001b[38;5;241m=\u001b[39m \u001b[43mfunc\u001b[49m\u001b[43m(\u001b[49m\u001b[43mvalues\u001b[49m\u001b[43m,\u001b[49m\u001b[43m \u001b[49m\u001b[43maxis\u001b[49m\u001b[38;5;241;43m=\u001b[39;49m\u001b[43maxis\u001b[49m\u001b[43m,\u001b[49m\u001b[43m \u001b[49m\u001b[43mskipna\u001b[49m\u001b[38;5;241;43m=\u001b[39;49m\u001b[43mskipna\u001b[49m\u001b[43m,\u001b[49m\u001b[43m \u001b[49m\u001b[43mmask\u001b[49m\u001b[38;5;241;43m=\u001b[39;49m\u001b[43mmask\u001b[49m\u001b[43m,\u001b[49m\u001b[43m \u001b[49m\u001b[38;5;241;43m*\u001b[39;49m\u001b[38;5;241;43m*\u001b[39;49m\u001b[43mkwargs\u001b[49m\u001b[43m)\u001b[49m\n\u001b[1;32m    420\u001b[0m \u001b[38;5;28;01mif\u001b[39;00m datetimelike:\n\u001b[1;32m    421\u001b[0m     result \u001b[38;5;241m=\u001b[39m _wrap_results(result, orig_values\u001b[38;5;241m.\u001b[39mdtype, fill_value\u001b[38;5;241m=\u001b[39miNaT)\n",
      "File \u001b[0;32m/opt/conda/lib/python3.10/site-packages/pandas/core/nanops.py:706\u001b[0m, in \u001b[0;36mnanmean\u001b[0;34m(values, axis, skipna, mask)\u001b[0m\n\u001b[1;32m    703\u001b[0m     dtype_count \u001b[38;5;241m=\u001b[39m dtype\n\u001b[1;32m    705\u001b[0m count \u001b[38;5;241m=\u001b[39m _get_counts(values\u001b[38;5;241m.\u001b[39mshape, mask, axis, dtype\u001b[38;5;241m=\u001b[39mdtype_count)\n\u001b[0;32m--> 706\u001b[0m the_sum \u001b[38;5;241m=\u001b[39m \u001b[43m_ensure_numeric\u001b[49m\u001b[43m(\u001b[49m\u001b[43mvalues\u001b[49m\u001b[38;5;241;43m.\u001b[39;49m\u001b[43msum\u001b[49m\u001b[43m(\u001b[49m\u001b[43maxis\u001b[49m\u001b[43m,\u001b[49m\u001b[43m \u001b[49m\u001b[43mdtype\u001b[49m\u001b[38;5;241;43m=\u001b[39;49m\u001b[43mdtype_sum\u001b[49m\u001b[43m)\u001b[49m\u001b[43m)\u001b[49m\n\u001b[1;32m    708\u001b[0m \u001b[38;5;28;01mif\u001b[39;00m axis \u001b[38;5;129;01mis\u001b[39;00m \u001b[38;5;129;01mnot\u001b[39;00m \u001b[38;5;28;01mNone\u001b[39;00m \u001b[38;5;129;01mand\u001b[39;00m \u001b[38;5;28mgetattr\u001b[39m(the_sum, \u001b[38;5;124m\"\u001b[39m\u001b[38;5;124mndim\u001b[39m\u001b[38;5;124m\"\u001b[39m, \u001b[38;5;28;01mFalse\u001b[39;00m):\n\u001b[1;32m    709\u001b[0m     count \u001b[38;5;241m=\u001b[39m cast(np\u001b[38;5;241m.\u001b[39mndarray, count)\n",
      "File \u001b[0;32m/opt/conda/lib/python3.10/site-packages/pandas/core/nanops.py:1637\u001b[0m, in \u001b[0;36m_ensure_numeric\u001b[0;34m(x)\u001b[0m\n\u001b[1;32m   1634\u001b[0m             x \u001b[38;5;241m=\u001b[39m \u001b[38;5;28mcomplex\u001b[39m(x)\n\u001b[1;32m   1635\u001b[0m         \u001b[38;5;28;01mexcept\u001b[39;00m \u001b[38;5;167;01mValueError\u001b[39;00m \u001b[38;5;28;01mas\u001b[39;00m err:\n\u001b[1;32m   1636\u001b[0m             \u001b[38;5;66;03m# e.g. \"foo\"\u001b[39;00m\n\u001b[0;32m-> 1637\u001b[0m             \u001b[38;5;28;01mraise\u001b[39;00m \u001b[38;5;167;01mTypeError\u001b[39;00m(\u001b[38;5;124mf\u001b[39m\u001b[38;5;124m\"\u001b[39m\u001b[38;5;124mCould not convert \u001b[39m\u001b[38;5;132;01m{\u001b[39;00mx\u001b[38;5;132;01m}\u001b[39;00m\u001b[38;5;124m to numeric\u001b[39m\u001b[38;5;124m\"\u001b[39m) \u001b[38;5;28;01mfrom\u001b[39;00m \u001b[38;5;21;01merr\u001b[39;00m\n\u001b[1;32m   1638\u001b[0m \u001b[38;5;28;01mreturn\u001b[39;00m x\n",
      "\u001b[0;31mTypeError\u001b[0m: Could not convert ayushbhujadeadityasatainainitymotghare to numeric"
     ]
    }
   ],
   "source": [
    "df1['column_2'].mean()"
   ]
  },
  {
   "cell_type": "markdown",
   "id": "533d8a8f-0408-4b2c-b818-d64a21db8159",
   "metadata": {},
   "source": [
    "because ‘column_2’ is now string and string object is not calculate mean \n"
   ]
  },
  {
   "cell_type": "markdown",
   "id": "1c231b10-5839-4d34-9642-4e00263bfbc4",
   "metadata": {},
   "source": [
    "quation 6:"
   ]
  },
  {
   "cell_type": "markdown",
   "id": "e61f90ff-f166-4973-925e-48add1558372",
   "metadata": {},
   "source": [
    "windos function allow us to perform computation among the values of a specified column\n",
    "1)rolling ()\n",
    "2)expanding()\n",
    "3)weighted\n"
   ]
  },
  {
   "cell_type": "markdown",
   "id": "6cd6cce4-26df-4b91-98e3-71d7acf816a7",
   "metadata": {},
   "source": [
    "quation 7:\n",
    "    "
   ]
  },
  {
   "cell_type": "code",
   "execution_count": 41,
   "id": "e5284765-ad24-4fcf-9ef8-2ae6a630235c",
   "metadata": {},
   "outputs": [
    {
     "name": "stdout",
     "output_type": "stream",
     "text": [
      "October2023\n"
     ]
    },
    {
     "name": "stderr",
     "output_type": "stream",
     "text": [
      "/tmp/ipykernel_77/2596344891.py:1: FutureWarning: The pandas.datetime class is deprecated and will be removed from pandas in a future version. Import from datetime module instead.\n",
      "  time=pd.datetime.now()\n"
     ]
    }
   ],
   "source": [
    "time=pd.datetime.now()\n",
    "print(time.strftime(\"%B\" \"%Y\"))"
   ]
  },
  {
   "cell_type": "markdown",
   "id": "ec0a5d51-12e1-42cc-a976-8723cb86e790",
   "metadata": {},
   "source": [
    "quation 8"
   ]
  },
  {
   "cell_type": "code",
   "execution_count": 58,
   "id": "4d532584-530e-4244-bf24-53761f01b20d",
   "metadata": {},
   "outputs": [
    {
     "name": "stdin",
     "output_type": "stream",
     "text": [
      "entre first date in format YYYY-MM-DD 2022-03-01\n",
      "entre second date in formate YYYY-MM-DD 2022-04-02\n"
     ]
    }
   ],
   "source": [
    "a=input(\"entre first date in format YYYY-MM-DD\")\n",
    "b=input(\"entre second date in formate YYYY-MM-DD\")\n",
    "\n"
   ]
  },
  {
   "cell_type": "code",
   "execution_count": 67,
   "id": "a3b06f86-45b4-478b-815a-5b5be8d704ff",
   "metadata": {},
   "outputs": [],
   "source": [
    "a=pd.to_datetime(a)\n",
    "b=pd.to_datetime(b)\n",
    "time_differnce=b-a\n"
   ]
  },
  {
   "cell_type": "code",
   "execution_count": 74,
   "id": "6be732f3-7ae8-48d5-8cef-7663b1059eee",
   "metadata": {},
   "outputs": [
    {
     "name": "stdout",
     "output_type": "stream",
     "text": [
      "time differnce 32 days,0 hour,and minutes0\n"
     ]
    }
   ],
   "source": [
    "day=time_differnce.days\n",
    "hour,remainder=divmod(time_differnce.seconds,3600)\n",
    "minutes=remainder//60\n",
    "print(f\"time differnce {day} days,{hour} hour,and minutes{minutes}\")"
   ]
  },
  {
   "cell_type": "markdown",
   "id": "9bb78216-3bdb-4198-8aa5-5895366987d1",
   "metadata": {},
   "source": [
    "quation 9"
   ]
  },
  {
   "cell_type": "code",
   "execution_count": 12,
   "id": "90410a97-f7ac-4fe7-98f3-1bca7ee57b22",
   "metadata": {},
   "outputs": [
    {
     "name": "stdin",
     "output_type": "stream",
     "text": [
      "enter the csv file path : services.csv\n",
      "enter the column name to convert to categorical : application_process\n",
      "enter the categorical order ,\n"
     ]
    }
   ],
   "source": [
    "file_path=input(\"enter the csv file path :\")\n",
    "column_name=input(\"enter the column name to convert to categorical :\")\n",
    "category_order=input(\"enter the categorical order\")"
   ]
  },
  {
   "cell_type": "code",
   "execution_count": 15,
   "id": "7c445ccd-95b6-4ef6-a3b8-27416649683e",
   "metadata": {},
   "outputs": [
    {
     "name": "stdout",
     "output_type": "stream",
     "text": [
      "    id  location_id  program_id         accepted_payments  \\\n",
      "0    1            1         NaN                       NaN   \n",
      "1    2            2         NaN                       NaN   \n",
      "2    3            3         NaN                       NaN   \n",
      "3    4            4         NaN                       NaN   \n",
      "4    5            5         NaN                       NaN   \n",
      "5    6            6         NaN                       NaN   \n",
      "6    7            7         NaN                       NaN   \n",
      "7    8            8         NaN                       NaN   \n",
      "8    9            9         NaN                       NaN   \n",
      "9   10           10         NaN                       NaN   \n",
      "10  11           11         NaN                       NaN   \n",
      "11  12           12         NaN                       NaN   \n",
      "12  13           13         NaN                       NaN   \n",
      "13  14           14         NaN                       NaN   \n",
      "14  15           15         NaN                       NaN   \n",
      "15  16           16         NaN                       NaN   \n",
      "16  17           17         NaN                       NaN   \n",
      "17  18           18         NaN                       NaN   \n",
      "18  19           19         NaN                       NaN   \n",
      "19  20           20         NaN                       NaN   \n",
      "20  21           21         NaN                       NaN   \n",
      "21  22           22         NaN  Cash, Check, Credit Card   \n",
      "22  23           22         NaN                       NaN   \n",
      "\n",
      "           alternate_name                                application_process  \\\n",
      "0                     NaN                         Walk in or apply by phone.   \n",
      "1                     NaN                 Apply by phone for an appointment.   \n",
      "2                     NaN        Phone for information (403-4300 Ext. 4322).   \n",
      "3                     NaN                                    Apply by phone.   \n",
      "4                     NaN                             Phone for information.   \n",
      "5                     NaN  Walk in or apply by phone for membership appli...   \n",
      "6                     NaN  Apply by phone or be referred by a doctor, soc...   \n",
      "7                     NaN                                    Apply by phone.   \n",
      "8                     NaN  Walk in. Proof of residency in California requ...   \n",
      "9                     NaN  Walk in. Proof of California residency to rece...   \n",
      "10                    NaN  Walk in. Proof of California residency require...   \n",
      "11                    NaN  Walk in or apply by phone, email or webpage re...   \n",
      "12                    NaN  Walk in. Proof of California residency require...   \n",
      "13                    NaN  Call for appointment. Referral from human serv...   \n",
      "14                    NaN          Walk in or through other agency referral.   \n",
      "15                    NaN  Walk in. Written application, identification r...   \n",
      "16                    NaN                              Call for information.   \n",
      "17                    NaN  Call for screening appointment. Medical visits...   \n",
      "18                    NaN     Call for screening appointment (650-347-3648).   \n",
      "19                    NaN                                           Walk in.   \n",
      "20                    NaN                    By phone during business hours.   \n",
      "21  Fotos para pasaportes                  Walk in or apply by phone or mail   \n",
      "22                    NaN                  Walk in or apply by phone or mail   \n",
      "\n",
      "                                             audience  \\\n",
      "0   Older adults age 55 or over, ethnic minorities...   \n",
      "1        Residents of San Mateo County age 55 or over   \n",
      "2   Older adults age 55 or over who can benefit fr...   \n",
      "3   Parents, children, families with problems of c...   \n",
      "4   Low-income working families with children tran...   \n",
      "5                                             Any age   \n",
      "6   Older adults who have memory or sensory loss, ...   \n",
      "7   Senior citizens age 60 or over, disabled indiv...   \n",
      "8      Ethnic minorities, especially Spanish speaking   \n",
      "9                                                 NaN   \n",
      "10                                                NaN   \n",
      "11  Adults, parents, children in 1st-12th grades i...   \n",
      "12                                                NaN   \n",
      "13  Individuals or families with low or no income ...   \n",
      "14  Adult alcoholic/drug addictive men and women w...   \n",
      "15                                                NaN   \n",
      "16                                                NaN   \n",
      "17                                                NaN   \n",
      "18                                                NaN   \n",
      "19                                                NaN   \n",
      "20                                                NaN   \n",
      "21  Profit and nonprofit businesses, the public, m...   \n",
      "22  Second service and nonprofit businesses, the p...   \n",
      "\n",
      "                                          description  \\\n",
      "0   A walk-in center for older adults that provide...   \n",
      "1   Provides training and job placement to eligibl...   \n",
      "2   Offers supportive counseling services to San M...   \n",
      "3   Provides supervised visitation services and a ...   \n",
      "4   Provides fixed 8% short term loans to eligible...   \n",
      "5   A multipurpose center offering a wide variety ...   \n",
      "6   Rosener House is a day center for older adults...   \n",
      "7   Delivers a hot meal to the home of persons age...   \n",
      "8   Provides general reading material, including b...   \n",
      "9   Provides general reading and media materials, ...   \n",
      "10  Provides general reading materials, including ...   \n",
      "11  Offers an intergenerational literacy program f...   \n",
      "12  Provides general reading materials, including ...   \n",
      "13  Provides food, clothing, bus tokens and shelte...   \n",
      "14  Provides a long-term (6-12 month) residential ...   \n",
      "15  Provides emergency assistance including food a...   \n",
      "16  Provides emergency food, clothing and furnitur...   \n",
      "17  By appointment only, Project Smile provides a ...   \n",
      "18  Provides free medical and dental care to those...   \n",
      "19              no unrequired fields for this service   \n",
      "20                                just a test service   \n",
      "21  [NOTE THIS IS NOT A REAL SERVICE--THIS IS FOR ...   \n",
      "22  [NOTE THIS IS NOT A REAL ORGANIZATION--THIS IS...   \n",
      "\n",
      "                                          eligibility                  email  \\\n",
      "0   Age 55 or over for most programs, age 60 or ov...                    NaN   \n",
      "1   Age 55 or over, county resident and willing an...                    NaN   \n",
      "2         Resident of San Mateo County age 55 or over                    NaN   \n",
      "3                                                None                    NaN   \n",
      "4   Eligibility: Low-income family with legal cust...                    NaN   \n",
      "5                                                None                    NaN   \n",
      "6                                      Age 18 or over                    NaN   \n",
      "7             Homebound person unable to cook or shop                    NaN   \n",
      "8     Resident of California to obtain a library card                    NaN   \n",
      "9             Resident of California to obtain a card                    NaN   \n",
      "10  Resident of California to obtain a library car...                    NaN   \n",
      "11  English-speaking adult reading at or below 7th...                    NaN   \n",
      "12    Resident of California to obtain a library card                    NaN   \n",
      "13  None for most services. For emergency assistan...                    NaN   \n",
      "14  Age 21-60, detoxed, physically able and willin...                    NaN   \n",
      "15                      None for emergency assistance                    NaN   \n",
      "16                                Low-income families                    NaN   \n",
      "17    Low-income person without access to health care                    NaN   \n",
      "18    Low-income person without access to health care                    NaN   \n",
      "19                                                NaN                    NaN   \n",
      "20                                                NaN                    NaN   \n",
      "21                                               None  passports@example.org   \n",
      "22                                               None                    NaN   \n",
      "\n",
      "    ...                                           keywords languages  \\\n",
      "0   ...  ADULT PROTECTION AND CARE SERVICES, Meal Sites...       NaN   \n",
      "1   ...  EMPLOYMENT/TRAINING SERVICES, Job Development,...       NaN   \n",
      "2   ...  Geriatric Counseling, Older Adults, Gay, Lesbi...       NaN   \n",
      "3   ...  INDIVIDUAL AND FAMILY DEVELOPMENT SERVICES, Gr...       NaN   \n",
      "4   ...     COMMUNITY SERVICES, Speakers, Automobile Loans       NaN   \n",
      "5   ...  ADULT PROTECTION AND CARE SERVICES, In-Home Su...       NaN   \n",
      "6   ...  ADULT PROTECTION AND CARE SERVICES, Adult Day ...       NaN   \n",
      "7   ...  ADULT PROTECTION AND CARE SERVICES, Meal Sites...       NaN   \n",
      "8   ...  EDUCATION SERVICES, Library, Libraries, Public...       NaN   \n",
      "9   ...  EDUCATION SERVICES, Library, Libraries, Public...       NaN   \n",
      "10  ...  EDUCATION SERVICES, Library, Libraries, Public...       NaN   \n",
      "11  ...  EDUCATION SERVICES, Adult, Alternative, Litera...       NaN   \n",
      "12  ...  EDUCATION SERVICES, Library, Libraries, Public...       NaN   \n",
      "13  ...  COMMUNITY SERVICES, Interpretation/Translation...       NaN   \n",
      "14  ...  ALCOHOLISM SERVICES, Residential Care, DRUG AB...       NaN   \n",
      "15  ...  COMMODITY SERVICES, Clothing/Personal Items, C...       NaN   \n",
      "16  ...  COMMODITY SERVICES, Clothing/Personal Items, C...       NaN   \n",
      "17  ...  HEALTH SERVICES, Outpatient Care, Community Cl...       NaN   \n",
      "18  ...  HEALTH SERVICES, Outpatient Care, Community Cl...       NaN   \n",
      "19  ...                                                NaN       NaN   \n",
      "20  ...                                                NaN       NaN   \n",
      "21  ...                                    Salud, Medicina   Spanish   \n",
      "22  ...         Ruby on Rails/Postgres/Redis, testing, wic       NaN   \n",
      "\n",
      "                                    name  \\\n",
      "0        Fair Oaks Adult Activity Center   \n",
      "1       Second Career Employment Program   \n",
      "2                 Senior Peer Counseling   \n",
      "3               Family Visitation Center   \n",
      "4      Economic Self-Sufficiency Program   \n",
      "5   Little House Recreational Activities   \n",
      "6       Rosener House Adult Day Services   \n",
      "7         Meals on Wheels - South County   \n",
      "8                       Fair Oaks Branch   \n",
      "9                           Main Library   \n",
      "10                       Schaberg Branch   \n",
      "11                          Project Read   \n",
      "12                 Redwood Shores Branch   \n",
      "13                    Redwood City Corps   \n",
      "14           Adult Rehabilitation Center   \n",
      "15                       Sunnyvale Corps   \n",
      "16     South San Francisco Citadel Corps   \n",
      "17                         Project Smile   \n",
      "18         San Mateo Free Medical Clinic   \n",
      "19             Service with blank fields   \n",
      "20       Service for Admin Test Location   \n",
      "21                       Passport Photos   \n",
      "22                  Example Service Name   \n",
      "\n",
      "                          required_documents  \\\n",
      "0                                        NaN   \n",
      "1                                        NaN   \n",
      "2                                        NaN   \n",
      "3                                        NaN   \n",
      "4                                        NaN   \n",
      "5                                        NaN   \n",
      "6                                        NaN   \n",
      "7                                        NaN   \n",
      "8                                        NaN   \n",
      "9                                        NaN   \n",
      "10                                       NaN   \n",
      "11                                       NaN   \n",
      "12                                       NaN   \n",
      "13                                       NaN   \n",
      "14                                       NaN   \n",
      "15                                       NaN   \n",
      "16                                       NaN   \n",
      "17                                       NaN   \n",
      "18                                       NaN   \n",
      "19                                       NaN   \n",
      "20                                       NaN   \n",
      "21  Government-issued picture identification   \n",
      "22                                       NaN   \n",
      "\n",
      "                            service_areas    status  \\\n",
      "0                                   Colma    active   \n",
      "1                        San Mateo County    active   \n",
      "2                        San Mateo County    active   \n",
      "3                        San Mateo County    active   \n",
      "4                        San Mateo County    active   \n",
      "5                        San Mateo County    active   \n",
      "6     Belmont, Burlingame, East Palo Alto    active   \n",
      "7                 Belmont, East Palo Alto    active   \n",
      "8                        San Mateo County    active   \n",
      "9                        San Mateo County    active   \n",
      "10                       San Mateo County    active   \n",
      "11                              Daly City    active   \n",
      "12                       San Mateo County    active   \n",
      "13    Belmont, Burlingame, East Palo Alto    active   \n",
      "14       Alameda County, San Mateo County    active   \n",
      "15                                    NaN    active   \n",
      "16  Colma, Daly City, South San Francisco    active   \n",
      "17                         East Palo Alto    active   \n",
      "18                    Belmont, Burlingame    active   \n",
      "19                                    NaN   defunct   \n",
      "20                       San Mateo County  inactive   \n",
      "21       Alameda County, San Mateo County    active   \n",
      "22       San Mateo County, Alameda County    active   \n",
      "\n",
      "                                            wait_time                 website  \\\n",
      "0                                            No wait.                     NaN   \n",
      "1                                             Varies.                     NaN   \n",
      "2                                             Varies.                     NaN   \n",
      "3                                            No wait.                     NaN   \n",
      "4                                                 NaN                     NaN   \n",
      "5                                            No wait.                     NaN   \n",
      "6                                            No wait.                     NaN   \n",
      "7                                            No wait.                     NaN   \n",
      "8                                            No wait.                     NaN   \n",
      "9                                            No wait.                     NaN   \n",
      "10                                           No wait.                     NaN   \n",
      "11  Depends on availability of tutors for small gr...                     NaN   \n",
      "12                                           No wait.                     NaN   \n",
      "13                                  Up to 20 minutes.                     NaN   \n",
      "14  Varies according to available beds for men and...                     NaN   \n",
      "15                                           No wait.                     NaN   \n",
      "16                                                NaN                     NaN   \n",
      "17                                            Varies.                     NaN   \n",
      "18                                            Varies.                     NaN   \n",
      "19                                                NaN                     NaN   \n",
      "20                                                NaN                     NaN   \n",
      "21                                No wait to 2 weeks.  http://www.example.com   \n",
      "22                                 No wait to 2 weeks  http://www.example.com   \n",
      "\n",
      "                                taxonomy_ids  \\\n",
      "0                                        NaN   \n",
      "1                                        NaN   \n",
      "2                                        NaN   \n",
      "3                                        NaN   \n",
      "4                                        NaN   \n",
      "5                                        NaN   \n",
      "6                                        NaN   \n",
      "7                                        NaN   \n",
      "8                                        NaN   \n",
      "9                                        NaN   \n",
      "10                                       NaN   \n",
      "11                                       NaN   \n",
      "12                                       NaN   \n",
      "13                                       NaN   \n",
      "14                                       NaN   \n",
      "15                                       NaN   \n",
      "16                                       NaN   \n",
      "17                                       NaN   \n",
      "18                                       NaN   \n",
      "19                                       NaN   \n",
      "20                                       NaN   \n",
      "21  105, 108, 108-05, 108-05-01, 111, 111-05   \n",
      "22                                       NaN   \n",
      "\n",
      "                                          column_name  \n",
      "0                          Walk in or apply by phone.  \n",
      "1                  Apply by phone for an appointment.  \n",
      "2         Phone for information (403-4300 Ext. 4322).  \n",
      "3                                     Apply by phone.  \n",
      "4                              Phone for information.  \n",
      "5   Walk in or apply by phone for membership appli...  \n",
      "6   Apply by phone or be referred by a doctor, soc...  \n",
      "7                                     Apply by phone.  \n",
      "8   Walk in. Proof of residency in California requ...  \n",
      "9   Walk in. Proof of California residency to rece...  \n",
      "10  Walk in. Proof of California residency require...  \n",
      "11  Walk in or apply by phone, email or webpage re...  \n",
      "12  Walk in. Proof of California residency require...  \n",
      "13  Call for appointment. Referral from human serv...  \n",
      "14          Walk in or through other agency referral.  \n",
      "15  Walk in. Written application, identification r...  \n",
      "16                              Call for information.  \n",
      "17  Call for screening appointment. Medical visits...  \n",
      "18     Call for screening appointment (650-347-3648).  \n",
      "19                                           Walk in.  \n",
      "20                    By phone during business hours.  \n",
      "21                  Walk in or apply by phone or mail  \n",
      "22                  Walk in or apply by phone or mail  \n",
      "\n",
      "[23 rows x 23 columns]\n"
     ]
    }
   ],
   "source": [
    "try:\n",
    "    df2=pd.read_csv(file_path)\n",
    "except FileNotFoundError:\n",
    "    print(\"file not found please check file path\")\n",
    "    exit()\n",
    "#if category_order:\n",
    "#    df2[\"column_name\"]=pd.Categorical(df2[column_name],categories=category_order)\n",
    "#else:\n",
    "df2[\"column_name\"]=pd.Categorical(df2[column_name])\n",
    "#sorted_df=df2.sorted_df(by=column_name)\n",
    "print(df2)"
   ]
  },
  {
   "cell_type": "markdown",
   "id": "4fe93728-d302-4c26-8ace-dfc1c7e6896d",
   "metadata": {},
   "source": [
    "quation 10\n"
   ]
  },
  {
   "cell_type": "code",
   "execution_count": 18,
   "id": "d711e6bc-d9d3-4ca3-96c0-2b11ae6b8de0",
   "metadata": {},
   "outputs": [
    {
     "name": "stdin",
     "output_type": "stream",
     "text": [
      "enter path of csv file services.csv\n"
     ]
    }
   ],
   "source": [
    "path=input(\"enter path of csv file\")\n"
   ]
  },
  {
   "cell_type": "code",
   "execution_count": 19,
   "id": "51c3a81a-9168-4ae4-957c-77158511b788",
   "metadata": {},
   "outputs": [
    {
     "data": {
      "text/plain": [
       "<AxesSubplot: >"
      ]
     },
     "execution_count": 19,
     "metadata": {},
     "output_type": "execute_result"
    },
    {
     "data": {
      "image/png": "[encoded data removed]",
      "text/plain": [
       "<Figure size 640x480 with 1 Axes>"
      ]
     },
     "metadata": {},
     "output_type": "display_data"
    }
   ],
   "source": [
    "try:\n",
    "    df=pd.read_csv(path)\n",
    "except FileNotFoundError:\n",
    "    print(\"file not found please check the file path\")\n",
    "    exit()\n",
    "df.plot.bar()"
   ]
  },
  {
   "cell_type": "markdown",
   "id": "8706e7b1-ad19-4ef9-b405-1b4f06667747",
   "metadata": {},
   "source": [
    "quation 11:"
   ]
  },
  {
   "cell_type": "code",
   "execution_count": null,
   "id": "5b46d2cf-df1c-4409-a92e-80cba906fd99",
   "metadata": {},
   "outputs": [],
   "source": [
    "data=input(\"enter the path of csv file \")\n"
   ]
  },
  {
   "cell_type": "code",
   "execution_count": null,
   "id": "0e02428b-8eaf-4b34-942e-d9399475b7ba",
   "metadata": {},
   "outputs": [],
   "source": [
    "try:\n",
    "    df4=pd.read_csv(data)\n",
    "except FileNotFoundError:\n",
    "    print(\"file not found plese check the path of file\")\n",
    "    exit()\n",
    "try:\n",
    "    print(df4[\"test_score\"].mean())\n",
    "    print(df4[\"test_score\"].mode())\n",
    "    print(df4[\"test_score\"].median())\n",
    "except:\n",
    "    print(\"file not contain test_score\")\n",
    "\n",
    "    "
   ]
  },
  {
   "cell_type": "code",
   "execution_count": 42,
   "id": "3d2575b8-e3a6-4dce-9336-956e30f347e5",
   "metadata": {},
   "outputs": [],
   "source": [
    "data1=pd.DataFrame({\"student id\":[1,2,3,4,5,6,7,8,9,10],\"test score\":[80,90,80,75,85,95,90,78,84,95]})\n",
    "mean=data1[\"test score\"].mean()\n",
    "mode=data1[\"test score\"].mode()\n",
    "median=data1[\"test score\"].median()"
   ]
  },
  {
   "cell_type": "code",
   "execution_count": 41,
   "id": "9d03ee75-76bc-4812-8e95-88f6615da050",
   "metadata": {},
   "outputs": [
    {
     "name": "stdout",
     "output_type": "stream",
     "text": [
      "+---------+--------+\n",
      "| stattic | value  | \n",
      "+---------+--------+\n",
      "| mean    | 85.2  |\n",
      "| median  | 84.5  |\n",
      "| mode    | 0    80\n",
      "1    90\n",
      "2    95\n",
      "Name: test score, dtype: int64  |\n",
      "+---------+--------+\n"
     ]
    }
   ],
   "source": [
    "print(\"+---------+--------+\")\n",
    "print(\"| stattic | value  | \")\n",
    "print(\"+---------+--------+\")\n",
    "print(\"| mean    |\",mean,\" |\")\n",
    "print(\"| median  |\",median,\" |\")\n",
    "print(\"| mode    |\",mode,\" |\")\n",
    "print(\"+---------+--------+\")"
   ]
  },
  {
   "cell_type": "code",
   "execution_count": null,
   "id": "4762d8ad-08e4-4cb1-a403-3de6f0168370",
   "metadata": {},
   "outputs": [],
   "source": []
  }
 ],
 "metadata": {
  "kernelspec": {
   "display_name": "Python 3 (ipykernel)",
   "language": "python",
   "name": "python3"
  },
  "language_info": {
   "codemirror_mode": {
    "name": "ipython",
    "version": 3
   },
   "file_extension": ".py",
   "mimetype": "text/x-python",
   "name": "python",
   "nbconvert_exporter": "python",
   "pygments_lexer": "ipython3",
   "version": "3.10.8"
  }
 },
 "nbformat": 4,
 "nbformat_minor": 5
}
